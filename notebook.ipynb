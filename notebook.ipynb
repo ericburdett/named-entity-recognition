{
  "nbformat": 4,
  "nbformat_minor": 0,
  "metadata": {
    "colab": {
      "name": "notebook.ipynb",
      "provenance": [],
      "include_colab_link": true
    },
    "kernelspec": {
      "name": "python3",
      "display_name": "Python 3"
    },
    "accelerator": "GPU"
  },
  "cells": [
    {
      "cell_type": "markdown",
      "metadata": {
        "id": "view-in-github",
        "colab_type": "text"
      },
      "source": [
        "<a href=\"https://colab.research.google.com/github/ericburdett/named-entity-recognition/blob/master/notebook.ipynb\" target=\"_parent\"><img src=\"https://colab.research.google.com/assets/colab-badge.svg\" alt=\"Open In Colab\"/></a>"
      ]
    },
    {
      "cell_type": "markdown",
      "metadata": {
        "id": "VPrUn5n6CwCJ",
        "colab_type": "text"
      },
      "source": [
        "# Named-Entity-Recognition in TensorFlow 2\n",
        "\n",
        "This notebook contains code to do Named Entity Reconition in TensorFlow 2."
      ]
    },
    {
      "cell_type": "markdown",
      "metadata": {
        "id": "Q1sGqnTaFtjd",
        "colab_type": "text"
      },
      "source": [
        "## Imports and Dependencies\n",
        "\n",
        "TensorFlow Addons apparently has an implementation of CRF that is compatible with TF2 and tf.keras."
      ]
    },
    {
      "cell_type": "code",
      "metadata": {
        "id": "_sKdrBf7C3zT",
        "colab_type": "code",
        "colab": {}
      },
      "source": [
        "# Used in Colab to say we're using Version 2\n",
        "try:\n",
        "  %tensorflow_version 2.x\n",
        "except Exception:\n",
        "  pass"
      ],
      "execution_count": 0,
      "outputs": []
    },
    {
      "cell_type": "code",
      "metadata": {
        "id": "vq00R5VjDx_0",
        "colab_type": "code",
        "colab": {}
      },
      "source": [
        "# TensorFlow\n",
        "import tensorflow as tf\n",
        "import tensorflow_addons as tfa\n",
        "import tensorflow.keras as K\n",
        "import tensorflow.keras.layers as L\n",
        "\n",
        "# Python\n",
        "import os\n",
        "import string\n",
        "\n",
        "# Data Structures\n",
        "import numpy as np\n",
        "import pandas as pd\n",
        "import json\n",
        "\n",
        "# Image/Plotting\n",
        "from matplotlib import pyplot as plt\n",
        "\n",
        "# Debugging\n",
        "from tqdm import tqdm\n",
        "from IPython.core.ultratb import AutoFormattedTB\n",
        "__ITB__ = AutoFormattedTB(mode='Plain', color_scheme='LightBg', tb_offset=1) # Change to 'Verbose' mode for additional debugging"
      ],
      "execution_count": 0,
      "outputs": []
    },
    {
      "cell_type": "code",
      "metadata": {
        "id": "aowidUPYPhto",
        "colab_type": "code",
        "colab": {}
      },
      "source": [
        "# Insert file path to Esposalles Dataset in your Google Drive\n",
        "# Note that '!' indicates a shell command rather than python code...\n",
        "\n",
        "!wget -q https://raw.githubusercontent.com/ericburdett/named-entity-recognition/master/char_set.json\n",
        "!wget -q https://raw.githubusercontent.com/ericburdett/named-entity-recognition/master/esposalles-labels.csv"
      ],
      "execution_count": 0,
      "outputs": []
    },
    {
      "cell_type": "markdown",
      "metadata": {
        "id": "B7IRJQe-G7Mw",
        "colab_type": "text"
      },
      "source": [
        "## Encoding Class\n",
        "\n",
        "The encoding class helps us map between strings and indexes."
      ]
    },
    {
      "cell_type": "code",
      "metadata": {
        "id": "zNpDzP01Dgij",
        "colab_type": "code",
        "colab": {}
      },
      "source": [
        "class Encoder():\n",
        "  def __init__(self, entity_list, sequence_size=20):\n",
        "    self.entity_dict = {e: i for i, e in enumerate(entity_list)}\n",
        "    self.sequence_size = sequence_size\n",
        "\n",
        "    with open('char_set.json') as file:\n",
        "      self.char_dict = json.load(file)\n",
        "    \n",
        "  def char_to_idx(self, char):\n",
        "    if char in self.char_dict['char_to_idx']:\n",
        "      return int(self.char_dict['char_to_idx'][char])\n",
        "    else:\n",
        "      return 0\n",
        "  \n",
        "  def idx_to_char(self, idx):\n",
        "    if str(int(idx)) in self.char_dict['idx_to_char']:\n",
        "      return self.char_dict['idx_to_char'][str(int(idx))]\n",
        "    else:\n",
        "      return ''\n",
        "  \n",
        "  def str_to_idxs(self, string):\n",
        "    assert type(string) == str\n",
        "\n",
        "    zeros = np.zeros(self.sequence_size)\n",
        "    idxs = []\n",
        "    for char in string:\n",
        "      idxs.append(self.char_to_idx(char))\n",
        "    \n",
        "    idxs = np.concatenate((idxs, zeros))[:self.sequence_size]\n",
        "\n",
        "    return idxs\n",
        "  \n",
        "  def idxs_to_str(self, idxs):\n",
        "    chars = ''\n",
        "\n",
        "    for idx in idxs:\n",
        "      chars += self.idx_to_char(idx)\n",
        "    \n",
        "    return chars\n",
        "\n",
        "  def entity_to_idx(self, entity):\n",
        "    return self.entity_dict[entity]"
      ],
      "execution_count": 0,
      "outputs": []
    },
    {
      "cell_type": "markdown",
      "metadata": {
        "id": "QgdOgvr_F8-N",
        "colab_type": "text"
      },
      "source": [
        "## Generator Creation\n",
        "\n",
        "TensorFlow can use a Python Generator to access the dataset during training"
      ]
    },
    {
      "cell_type": "code",
      "metadata": {
        "id": "Fe-GEolpE2QM",
        "colab_type": "code",
        "colab": {}
      },
      "source": [
        "# TensorFlow uses Generators to access the dataset during training\n",
        "def dataset_df(path='/content/esposalles-labels.csv'):\n",
        "  if not os.path.exists(path):\n",
        "    raise Exception('Esposalles dataset does not exist in ' + path)\n",
        "  \n",
        "  df = pd.read_csv(path, header=None, sep='\\t', names=['img', 'entity', 'rel-entity', 'word', 'sentence'])\n",
        "  df = df.drop(columns=['img'])\n",
        "\n",
        "  return df\n",
        "\n",
        "def encode_word_label(data, entity_type, encoder):\n",
        "  word = data['word']\n",
        "  encoded_word = encoder.str_to_idxs(str(word))\n",
        "  label = data[entity_type]\n",
        "  encoded_label = encoder.entity_to_idx(label)\n",
        "\n",
        "  return (encoded_word, encoded_label)\n",
        "\n",
        "def esposalles_generator(entity_type='entity'): # options include 'entity' and 'rel-entity'\n",
        "  data = dataset_df()\n",
        "  entity_list = list(set(data[entity_type].values))\n",
        "  encoder = Encoder(entity_list)\n",
        "\n",
        "  df_size = data['sentence'].max() + 1\n",
        "\n",
        "  for i in range(df_size):\n",
        "    ith_sentence_words = data.loc[data['sentence'] == i]\n",
        "\n",
        "    sentence_words = []\n",
        "    sentence_labels = []\n",
        "\n",
        "    for index, row in ith_sentence_words.iterrows():\n",
        "      encoded_word, encoded_label = encode_word_label(row, entity_type, encoder)\n",
        "      sentence_words.append(encoded_word)\n",
        "      sentence_labels.append(encoded_label)\n",
        "    \n",
        "    yield tf.constant(np.array(sentence_words), dtype=tf.int64), tf.constant(np.array(sentence_labels), dtype=tf.int32)"
      ],
      "execution_count": 0,
      "outputs": []
    },
    {
      "cell_type": "markdown",
      "metadata": {
        "id": "_5mgsr2oGPFh",
        "colab_type": "text"
      },
      "source": [
        "## Model Architecture\n",
        "\n",
        "This is where we can build our model using the tf.keras high-level API\n",
        "\n",
        "We subclass from tf.keras.Model and implement the *call* method. This is the *forward pass* of the neural network."
      ]
    },
    {
      "cell_type": "code",
      "metadata": {
        "id": "PKXklX-gGYD_",
        "colab_type": "code",
        "colab": {}
      },
      "source": [
        "class NERModel(K.Model):\n",
        "  def __init__(self, input_dim=197, num_classes=6, input_length=20):\n",
        "    super(NERModel, self).__init__()\n",
        "\n",
        "    self.embedding = L.Embedding(input_dim=input_dim, output_dim=64, input_length=input_length)\n",
        "    self.lstm = L.Bidirectional(L.LSTM(64))\n",
        "    self.fc1 = L.Dense(64, activation='relu')\n",
        "    self.fc2 = L.Dense(num_classes)\n",
        "    self.softmax = L.Softmax(axis=1)\n",
        "\n",
        "  def __call__(self, x):\n",
        "    out = self.embedding(x)\n",
        "    out = self.lstm(out)\n",
        "    out = self.fc1(out)\n",
        "    out = self.fc2(out)\n",
        "    out = self.softmax(out)\n",
        "\n",
        "    return out"
      ],
      "execution_count": 0,
      "outputs": []
    },
    {
      "cell_type": "markdown",
      "metadata": {
        "id": "GzvxSgFXNZJK",
        "colab_type": "text"
      },
      "source": [
        "### Test to make sure the model is doing what we think it is...\n",
        "\n",
        "The output shape should be (NUM_WORDS_IN_SENTENCE, NUM_CLASSES). Example: (41, 6)\n",
        "\n",
        "The values along Axis=0 represents a word\n",
        "\n",
        "The values along Axis=1 represents the probability distribution"
      ]
    },
    {
      "cell_type": "code",
      "metadata": {
        "id": "uzBsYVZjNdNv",
        "colab_type": "code",
        "outputId": "729b42a6-8c83-4af2-d80a-ea4d90990be7",
        "colab": {
          "base_uri": "https://localhost:8080/",
          "height": 68
        }
      },
      "source": [
        "generator = esposalles_generator()\n",
        "sentence, labels = next(generator)\n",
        "\n",
        "model = NERModel()\n",
        "results = model(sentence)\n",
        "print('Shape of output from NER Model: ', results.shape)\n",
        "print('Probability Distribution for one word in the sentence: ', results[0])\n",
        "print('Predicted class for the word: ', tf.argmax(results[0]).numpy())"
      ],
      "execution_count": 28,
      "outputs": [
        {
          "output_type": "stream",
          "text": [
            "Shape of output from NER Model:  (41, 6)\n",
            "Probability Distribution for one word in the sentence:  tf.Tensor([0.16486306 0.16903566 0.16729386 0.1643345  0.17018245 0.16429047], shape=(6,), dtype=float32)\n",
            "Predicted class for the word:  4\n"
          ],
          "name": "stdout"
        }
      ]
    },
    {
      "cell_type": "markdown",
      "metadata": {
        "id": "eo6dYjU7HGxv",
        "colab_type": "text"
      },
      "source": [
        "## Training Loop\n",
        "\n",
        "Build our training loop and creating custom train_step and val_step functions.\n",
        "\n",
        "GradientTape allows us to keep track of the losses and gradients for each pass through the network. Structuring our code this way makes it much easier for debugging purposes and for us to iterate through our design.\n",
        "\n",
        "Notice the decorator *@tf.function*. This tells TensorFlow to create the computation graph from the python code and allows our model to run much faster. The *experimental_relax_shapes* parameter allows us to pass tensors with various sentence lengths without TensorFlow getting upset at us.\n",
        "\n",
        "TensorFlow 2 also does some weird things with scope when it constructs the computation graph through a @tf.function annotation. Thus, if we use a more object oriented approach, we can avoid some of the nasty scope issues. See the following articles for more details:\n",
        "* https://pgaleone.eu/tensorflow/tf.function/2019/03/21/dissecting-tf-function-part-1/\n",
        "* https://pgaleone.eu/tensorflow/tf.function/2019/04/03/dissecting-tf-function-part-2/\n"
      ]
    },
    {
      "cell_type": "code",
      "metadata": {
        "id": "yJKYEv0JVPoG",
        "colab_type": "code",
        "colab": {}
      },
      "source": [
        "class Train:\n",
        "  def __init__(self):\n",
        "    # How many times through the training set should we go?\n",
        "    self.epochs = 20\n",
        "\n",
        "    # Determine sizes for training and validation sets\n",
        "    dataset_size = dataset_df()['sentence'].max() + 1\n",
        "    self.train_dataset_size = int(.8 * dataset_size)\n",
        "    self.val_dataset_size = dataset_size - self.train_dataset_size\n",
        "\n",
        "    # Break up dataset into training/validation\n",
        "    dataset = tf.data.Dataset.from_generator(\n",
        "        esposalles_generator,\n",
        "        (tf.int64, tf.int32),\n",
        "        (tf.TensorShape([None, 20]), tf.TensorShape([None])))\n",
        "    self.train_dataset = dataset.take(self.train_dataset_size)\n",
        "    self.val_dataset = dataset.skip(self.train_dataset_size)\n",
        "\n",
        "    # Create our model\n",
        "    self.model = NERModel()\n",
        "\n",
        "    # Use CrossEntropy for our loss function and Adam for our optimizer\n",
        "    self.loss_fn = K.losses.SparseCategoricalCrossentropy(from_logits=False)\n",
        "    self.optimizer = K.optimizers.Adam(learning_rate=1e-3)\n",
        "\n",
        "    # Metrics to track our performance\n",
        "    # Consider adding metrics like Precision/Recall here...\n",
        "    self.train_loss = tf.keras.metrics.Mean(name='train_loss')\n",
        "    self.train_accuracy = tf.keras.metrics.Accuracy(name='train_accuracy')\n",
        "    self.val_loss = tf.keras.metrics.Mean(name='val_loss')\n",
        "    self.val_accuracy = tf.keras.metrics.Accuracy(name='val_accuracy')\n",
        "\n",
        "  @tf.function(experimental_relax_shapes=True)\n",
        "  def train_step(self, words, labels):\n",
        "    with tf.GradientTape() as tape:\n",
        "      # Make a prediction, calculate the loss\n",
        "      predictions = self.model(words)\n",
        "      loss = self.loss_fn(labels, predictions)\n",
        "\n",
        "    # Obtain gradients from GradientTape\n",
        "    gradients = tape.gradient(loss, self.model.trainable_variables)\n",
        "\n",
        "    # Propagate loss back through the network and take a step with the optimizer  \n",
        "    self.optimizer.apply_gradients(zip(gradients, self.model.trainable_variables))\n",
        "    \n",
        "    # Update our metrics\n",
        "    self.train_loss(loss)\n",
        "    self.train_accuracy(labels, tf.argmax(predictions, axis=1))\n",
        "\n",
        "  @tf.function(experimental_relax_shapes=True)\n",
        "  def validation_step(self, words, labels):\n",
        "    # Make a prediction and calculate the loss\n",
        "    predictions = self.model(words)\n",
        "    loss = self.loss_fn(labels, predictions)\n",
        "\n",
        "    # Update our metrics\n",
        "    self.val_loss(loss)\n",
        "    self.val_accuracy(labels, tf.argmax(predictions, axis=1))\n",
        "\n",
        "  def __call__(self):\n",
        "    # Variables to keep track of our progress through the entire training process\n",
        "    # Used below when we create our graphs\n",
        "    train_losses, val_losses = [], []\n",
        "    train_accuracies, val_accuracies = [], []\n",
        "\n",
        "    for epoch in range(self.epochs):\n",
        "      # Reset Metrics for another epoch\n",
        "      self.train_loss.reset_states()\n",
        "      self.train_accuracy.reset_states()\n",
        "      self.val_loss.reset_states()\n",
        "      self.val_accuracy.reset_states()\n",
        "\n",
        "      # Instantiate metrics\n",
        "      train_epoch_losses, val_epoch_losses = [], []\n",
        "      train_epoch_accuracies, val_epoch_accuracies = [], []\n",
        "\n",
        "      # Training Loop\n",
        "      train_loop = tqdm(total=self.train_dataset_size, position=0, leave=True)\n",
        "      for words, labels in self.train_dataset:\n",
        "        # One training iteration\n",
        "        self.train_step(words, labels)\n",
        "\n",
        "        # Update Metrics\n",
        "        train_epoch_losses.append(self.train_loss.result())\n",
        "        train_epoch_accuracies.append(self.train_accuracy.result())\n",
        "        avg_loss = np.mean(train_epoch_losses) if len(train_epoch_losses) != 0 else 0 # For some reason, on the first couple runs, these metrics can be empty\n",
        "        avg_acc = np.mean(train_epoch_accuracies) if len(train_epoch_accuracies) != 0 else 0\n",
        "\n",
        "        # Update Progress Loop\n",
        "        train_loop.set_description('Train - Epoch: {}, Loss: {:.4f}, Accuracy: {:.4f}, AvgLoss: {:.4f}, AvgAccuracy: {:.4f}'.format(epoch, self.train_loss.result(), self.train_accuracy.result(), avg_loss, avg_acc))\n",
        "        train_loop.update(1)\n",
        "\n",
        "      train_loop.close()\n",
        "\n",
        "      # Validation Loop\n",
        "      val_loop = tqdm(total=self.val_dataset_size, position=0, leave=True)\n",
        "      for words, labels in self.val_dataset:\n",
        "        # One validation iteration\n",
        "        self.validation_step(words, labels)\n",
        "\n",
        "        # Update Metrics\n",
        "        val_epoch_losses.append(self.val_loss.result())\n",
        "        val_epoch_accuracies.append(self.val_accuracy.result())\n",
        "        avg_loss = np.mean(val_epoch_losses) if len(val_epoch_losses) != 0 else 0\n",
        "        avg_acc = np.mean(val_epoch_accuracies) if len(val_epoch_accuracies) != 0 else 0\n",
        "\n",
        "        # Update Progress Loop\n",
        "        val_loop.set_description('Val  - Epoch: {}, Loss: {:.4f}, Accuracy: {:.4f}, AvgLoss: {:.4f}, AvgAccuracy: {:.4f}'.format(epoch, self.val_loss.result(), self.val_accuracy.result(), avg_loss, avg_acc))\n",
        "        val_loop.update(1)\n",
        "        \n",
        "      val_loop.close()\n",
        "\n",
        "      # Update Metrics for graphs\n",
        "      train_losses.append(np.mean(train_epoch_losses))\n",
        "      val_losses.append(np.mean(val_epoch_losses))\n",
        "      train_accuracies.append(np.mean(train_epoch_accuracies))\n",
        "      val_accuracies.append(np.mean(val_epoch_accuracies))\n",
        "\n",
        "    return self.model, (train_losses, val_losses), (train_accuracies, val_accuracies)"
      ],
      "execution_count": 0,
      "outputs": []
    },
    {
      "cell_type": "code",
      "metadata": {
        "id": "sSrAZsyHX3VL",
        "colab_type": "code",
        "colab": {
          "base_uri": "https://localhost:8080/",
          "height": 697
        },
        "outputId": "8a0ebfe1-c4f2-414a-a2fd-8d5ea6932828"
      },
      "source": [
        "train = Train()\n",
        "model, losses, accuracies = train()"
      ],
      "execution_count": 31,
      "outputs": [
        {
          "output_type": "stream",
          "text": [
            "Train - Epoch: 0, Loss: 0.7120, Accuracy: 0.7457, AvgLoss: 0.9655, AvgAccuracy: 0.6512: 100%|██████████| 774/774 [00:17<00:00, 43.44it/s]\n",
            "Val  - Epoch: 0, Loss: 0.4906, Accuracy: 0.8351, AvgLoss: 0.4885, AvgAccuracy: 0.8391: 100%|██████████| 194/194 [00:07<00:00, 24.29it/s]\n",
            "Train - Epoch: 1, Loss: 0.4483, Accuracy: 0.8448, AvgLoss: 0.4856, AvgAccuracy: 0.8334: 100%|██████████| 774/774 [00:13<00:00, 56.78it/s]\n",
            "Val  - Epoch: 1, Loss: 0.4208, Accuracy: 0.8563, AvgLoss: 0.4194, AvgAccuracy: 0.8610: 100%|██████████| 194/194 [00:05<00:00, 33.01it/s]\n",
            "Train - Epoch: 2, Loss: 0.3837, Accuracy: 0.8709, AvgLoss: 0.4115, AvgAccuracy: 0.8637: 100%|██████████| 774/774 [00:13<00:00, 56.92it/s]\n",
            "Val  - Epoch: 2, Loss: 0.3748, Accuracy: 0.8747, AvgLoss: 0.3767, AvgAccuracy: 0.8750: 100%|██████████| 194/194 [00:05<00:00, 32.67it/s]\n",
            "Train - Epoch: 3, Loss: 0.3511, Accuracy: 0.8821, AvgLoss: 0.3710, AvgAccuracy: 0.8773: 100%|██████████| 774/774 [00:13<00:00, 56.42it/s]\n",
            "Val  - Epoch: 3, Loss: 0.3619, Accuracy: 0.8859, AvgLoss: 0.3607, AvgAccuracy: 0.8891: 100%|██████████| 194/194 [00:05<00:00, 32.79it/s]\n",
            "Train - Epoch: 4, Loss: 0.3268, Accuracy: 0.8930, AvgLoss: 0.3505, AvgAccuracy: 0.8865: 100%|██████████| 774/774 [00:13<00:00, 56.95it/s]\n",
            "Val  - Epoch: 4, Loss: 0.3337, Accuracy: 0.8957, AvgLoss: 0.3324, AvgAccuracy: 0.8966: 100%|██████████| 194/194 [00:05<00:00, 32.69it/s]\n",
            "Train - Epoch: 5, Loss: 0.3030, Accuracy: 0.9032, AvgLoss: 0.3211, AvgAccuracy: 0.8981: 100%|██████████| 774/774 [00:13<00:00, 57.16it/s]\n",
            "Val  - Epoch: 5, Loss: 0.3258, Accuracy: 0.9008, AvgLoss: 0.3213, AvgAccuracy: 0.9044: 100%|██████████| 194/194 [00:06<00:00, 32.18it/s]\n",
            "Train - Epoch: 6, Loss: 0.2864, Accuracy: 0.9101, AvgLoss: 0.3058, AvgAccuracy: 0.9041: 100%|██████████| 774/774 [00:13<00:00, 56.96it/s]\n",
            "Val  - Epoch: 6, Loss: 0.3113, Accuracy: 0.9068, AvgLoss: 0.3065, AvgAccuracy: 0.9118: 100%|██████████| 194/194 [00:05<00:00, 32.63it/s]\n",
            "Train - Epoch: 7, Loss: 0.2717, Accuracy: 0.9132, AvgLoss: 0.2879, AvgAccuracy: 0.9073: 100%|██████████| 774/774 [00:13<00:00, 55.43it/s]\n",
            "Val  - Epoch: 7, Loss: 0.3127, Accuracy: 0.9097, AvgLoss: 0.3088, AvgAccuracy: 0.9135: 100%|██████████| 194/194 [00:06<00:00, 31.88it/s]\n",
            "Train - Epoch: 8, Loss: 0.2613, Accuracy: 0.9174, AvgLoss: 0.2796, AvgAccuracy: 0.9127: 100%|██████████| 774/774 [00:13<00:00, 55.78it/s]\n",
            "Val  - Epoch: 8, Loss: 0.2994, Accuracy: 0.9078, AvgLoss: 0.2914, AvgAccuracy: 0.9143: 100%|██████████| 194/194 [00:05<00:00, 32.49it/s]\n",
            "Train - Epoch: 9, Loss: 0.2489, Accuracy: 0.9224, AvgLoss: 0.2643, AvgAccuracy: 0.9191: 100%|██████████| 774/774 [00:13<00:00, 56.56it/s]\n",
            "Val  - Epoch: 9, Loss: 0.2938, Accuracy: 0.9092, AvgLoss: 0.2871, AvgAccuracy: 0.9169: 100%|██████████| 194/194 [00:05<00:00, 32.61it/s]\n",
            "Train - Epoch: 10, Loss: 0.2397, Accuracy: 0.9247, AvgLoss: 0.2544, AvgAccuracy: 0.9211: 100%|██████████| 774/774 [00:13<00:00, 56.65it/s]\n",
            "Val  - Epoch: 10, Loss: 0.2937, Accuracy: 0.9139, AvgLoss: 0.2866, AvgAccuracy: 0.9202: 100%|██████████| 194/194 [00:06<00:00, 32.20it/s]\n",
            "Train - Epoch: 11, Loss: 0.2316, Accuracy: 0.9288, AvgLoss: 0.2461, AvgAccuracy: 0.9251: 100%|██████████| 774/774 [00:13<00:00, 55.68it/s]\n",
            "Val  - Epoch: 11, Loss: 0.2941, Accuracy: 0.9157, AvgLoss: 0.2888, AvgAccuracy: 0.9212: 100%|██████████| 194/194 [00:05<00:00, 32.36it/s]\n",
            "Train - Epoch: 12, Loss: 0.2256, Accuracy: 0.9302, AvgLoss: 0.2398, AvgAccuracy: 0.9269: 100%|██████████| 774/774 [00:14<00:00, 54.86it/s]\n",
            "Val  - Epoch: 12, Loss: 0.2997, Accuracy: 0.9150, AvgLoss: 0.2938, AvgAccuracy: 0.9196: 100%|██████████| 194/194 [00:06<00:00, 30.99it/s]\n",
            "Train - Epoch: 13, Loss: 0.2200, Accuracy: 0.9320, AvgLoss: 0.2338, AvgAccuracy: 0.9298: 100%|██████████| 774/774 [00:13<00:00, 56.72it/s]\n",
            "Val  - Epoch: 13, Loss: 0.2992, Accuracy: 0.9160, AvgLoss: 0.2956, AvgAccuracy: 0.9205: 100%|██████████| 194/194 [00:06<00:00, 32.16it/s]\n",
            "Train - Epoch: 14, Loss: 0.2161, Accuracy: 0.9336, AvgLoss: 0.2301, AvgAccuracy: 0.9310: 100%|██████████| 774/774 [00:13<00:00, 56.39it/s]\n",
            "Val  - Epoch: 14, Loss: 0.2964, Accuracy: 0.9166, AvgLoss: 0.2941, AvgAccuracy: 0.9222: 100%|██████████| 194/194 [00:05<00:00, 32.39it/s]\n",
            "Train - Epoch: 15, Loss: 0.2120, Accuracy: 0.9353, AvgLoss: 0.2255, AvgAccuracy: 0.9327: 100%|██████████| 774/774 [00:14<00:00, 54.98it/s]\n",
            "Val  - Epoch: 15, Loss: 0.2930, Accuracy: 0.9179, AvgLoss: 0.2916, AvgAccuracy: 0.9227: 100%|██████████| 194/194 [00:06<00:00, 31.90it/s]\n",
            "Train - Epoch: 16, Loss: 0.2102, Accuracy: 0.9355, AvgLoss: 0.2222, AvgAccuracy: 0.9328: 100%|██████████| 774/774 [00:13<00:00, 56.20it/s]\n",
            "Val  - Epoch: 16, Loss: 0.2970, Accuracy: 0.9166, AvgLoss: 0.2950, AvgAccuracy: 0.9201: 100%|██████████| 194/194 [00:06<00:00, 32.11it/s]\n",
            "Train - Epoch: 17, Loss: 0.2061, Accuracy: 0.9371, AvgLoss: 0.2180, AvgAccuracy: 0.9339: 100%|██████████| 774/774 [00:13<00:00, 55.81it/s]\n",
            "Val  - Epoch: 17, Loss: 0.2957, Accuracy: 0.9180, AvgLoss: 0.2947, AvgAccuracy: 0.9223: 100%|██████████| 194/194 [00:06<00:00, 32.20it/s]\n",
            "Train - Epoch: 18, Loss: 0.2025, Accuracy: 0.9384, AvgLoss: 0.2137, AvgAccuracy: 0.9357: 100%|██████████| 774/774 [00:13<00:00, 56.12it/s]\n",
            "Val  - Epoch: 18, Loss: 0.2986, Accuracy: 0.9161, AvgLoss: 0.2971, AvgAccuracy: 0.9206: 100%|██████████| 194/194 [00:06<00:00, 31.44it/s]\n",
            "Train - Epoch: 19, Loss: 0.1995, Accuracy: 0.9390, AvgLoss: 0.2109, AvgAccuracy: 0.9358: 100%|██████████| 774/774 [00:13<00:00, 55.61it/s]\n",
            "Val  - Epoch: 19, Loss: 0.3023, Accuracy: 0.9169, AvgLoss: 0.2979, AvgAccuracy: 0.9210: 100%|██████████| 194/194 [00:06<00:00, 31.94it/s]\n"
          ],
          "name": "stderr"
        }
      ]
    },
    {
      "cell_type": "markdown",
      "metadata": {
        "id": "lTYJyTZLcIoJ",
        "colab_type": "text"
      },
      "source": [
        "## Results\n",
        "\n",
        "Show how our model did throughout the training process."
      ]
    },
    {
      "cell_type": "code",
      "metadata": {
        "id": "ET2FHHVW957n",
        "colab_type": "code",
        "outputId": "021b688c-0ff8-4ecb-cae1-269b4eeddd55",
        "colab": {
          "base_uri": "https://localhost:8080/",
          "height": 312
        }
      },
      "source": [
        "plt.title('Loss')\n",
        "plt.xlabel('Epochs')\n",
        "plt.ylabel('Loss')\n",
        "plt.plot(losses[0], label='train')\n",
        "plt.plot(losses[1], label='val')\n",
        "plt.legend()\n",
        "plt.show()\n",
        "print('Final Validation Loss: {:.4f}'.format(losses[1][-1]))"
      ],
      "execution_count": 32,
      "outputs": [
        {
          "output_type": "display_data",
          "data": {
            "image/png": "[encoded data removed]",
            "text/plain": [
              "<Figure size 432x288 with 1 Axes>"
            ]
          },
          "metadata": {
            "tags": []
          }
        },
        {
          "output_type": "stream",
          "text": [
            "Final Validation Loss: 0.2979\n"
          ],
          "name": "stdout"
        }
      ]
    },
    {
      "cell_type": "code",
      "metadata": {
        "id": "8OHunu4792FZ",
        "colab_type": "code",
        "outputId": "36a3ea3a-459e-4b3e-d2ee-2ad5430ce1b0",
        "colab": {
          "base_uri": "https://localhost:8080/",
          "height": 312
        }
      },
      "source": [
        "plt.title('Accuracy')\n",
        "plt.xlabel('Epochs')\n",
        "plt.ylabel('Accuracy')\n",
        "plt.plot(accuracies[0], label='train')\n",
        "plt.plot(accuracies[1], label='val')\n",
        "plt.legend()\n",
        "plt.show()\n",
        "print('Final Validation Accuracy: {:.2f}%'.format(accuracies[1][-1] * 100))"
      ],
      "execution_count": 33,
      "outputs": [
        {
          "output_type": "display_data",
          "data": {
            "image/png": "[encoded data removed]",
            "text/plain": [
              "<Figure size 432x288 with 1 Axes>"
            ]
          },
          "metadata": {
            "tags": []
          }
        },
        {
          "output_type": "stream",
          "text": [
            "Final Validation Accuracy: 92.10%\n"
          ],
          "name": "stdout"
        }
      ]
    }
  ]
}
