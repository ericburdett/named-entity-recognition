{
  "nbformat": 4,
  "nbformat_minor": 0,
  "metadata": {
    "colab": {
      "name": "NER-Starter.ipynb",
      "provenance": [],
      "authorship_tag": "ABX9TyMePuydRWDT9mHY1oGyUWOu",
      "include_colab_link": true
    },
    "kernelspec": {
      "name": "python3",
      "display_name": "Python 3"
    }
  },
  "cells": [
    {
      "cell_type": "markdown",
      "metadata": {
        "id": "view-in-github",
        "colab_type": "text"
      },
      "source": [
        "<a href=\"https://colab.research.google.com/github/ericburdett/named-entity-recognition/blob/master/notebook.ipynb\" target=\"_parent\"><img src=\"https://colab.research.google.com/assets/colab-badge.svg\" alt=\"Open In Colab\"/></a>"
      ]
    },
    {
      "cell_type": "markdown",
      "metadata": {
        "id": "VPrUn5n6CwCJ",
        "colab_type": "text"
      },
      "source": [
        "# Named-Entity-Recognition in TensorFlow 2\n"
      ]
    },
    {
      "cell_type": "markdown",
      "metadata": {
        "id": "Q1sGqnTaFtjd",
        "colab_type": "text"
      },
      "source": [
        "## Imports and Dependencies\n",
        "\n",
        "TensorFlow Addons apparently has an implementation of CRF that is compatible with TF2 and tf.keras."
      ]
    },
    {
      "cell_type": "code",
      "metadata": {
        "id": "_sKdrBf7C3zT",
        "colab_type": "code",
        "colab": {}
      },
      "source": [
        "# Used in Colab to say we're using Version 2\n",
        "try:\n",
        "  %tensorflow_version 2.x\n",
        "except Exception:\n",
        "  pass"
      ],
      "execution_count": 0,
      "outputs": []
    },
    {
      "cell_type": "code",
      "metadata": {
        "id": "vq00R5VjDx_0",
        "colab_type": "code",
        "colab": {}
      },
      "source": [
        "# TensorFlow\n",
        "import tensorflow as tf\n",
        "import tensorflow_addons as tfa\n",
        "import tensorflow.keras as K\n",
        "import tensorflow.keras.layers as L\n",
        "\n",
        "# Python\n",
        "import os\n",
        "import string\n",
        "\n",
        "# Data Structures\n",
        "import numpy as np\n",
        "import pandas as pd\n",
        "import json\n",
        "\n",
        "# Image/Plotting\n",
        "from matplotlib import pyplot as plt\n",
        "\n",
        "# Debugging\n",
        "from tqdm import tqdm\n",
        "from IPython.core.ultratb import AutoFormattedTB\n",
        "__ITB__ = AutoFormattedTB(mode='Plain', color_scheme='LightBg', tb_offset=1) # Change to 'Verbose' mode for additional debugging"
      ],
      "execution_count": 0,
      "outputs": []
    },
    {
      "cell_type": "code",
      "metadata": {
        "id": "aowidUPYPhto",
        "colab_type": "code",
        "colab": {}
      },
      "source": [
        "# Insert file path to Esposalles Dataset in your Google Drive\n",
        "# Note that '!' indicates a shell command rather than python code...\n",
        "\n",
        "!wget -q https://raw.githubusercontent.com/ericburdett/named-entity-recognition/master/char_set.json\n",
        "!wget -q https://raw.githubusercontent.com/ericburdett/named-entity-recognition/master/esposalles-labels.csv"
      ],
      "execution_count": 0,
      "outputs": []
    },
    {
      "cell_type": "markdown",
      "metadata": {
        "id": "QgdOgvr_F8-N",
        "colab_type": "text"
      },
      "source": [
        "## Generator Creation\n",
        "\n",
        "TensorFlow uses Generators to access the dataset during training"
      ]
    },
    {
      "cell_type": "code",
      "metadata": {
        "id": "zNpDzP01Dgij",
        "colab_type": "code",
        "colab": {}
      },
      "source": [
        "class Encoder():\n",
        "  def __init__(self, entity_list, sequence_size=20):\n",
        "    self.entity_dict = {e: i for i, e in enumerate(entity_list)}\n",
        "    self.sequence_size = sequence_size\n",
        "\n",
        "    with open('char_set.json') as file:\n",
        "      self.char_dict = json.load(file)\n",
        "    \n",
        "  def char_to_idx(self, char):\n",
        "    if char in self.char_dict['char_to_idx']:\n",
        "      return int(self.char_dict['char_to_idx'][char])\n",
        "    else:\n",
        "      return 0\n",
        "  \n",
        "  def idx_to_char(self, idx):\n",
        "    if str(int(idx)) in self.char_dict['idx_to_char']:\n",
        "      return self.char_dict['idx_to_char'][str(int(idx))]\n",
        "    else:\n",
        "      return ''\n",
        "  \n",
        "  def str_to_idxs(self, string):\n",
        "    assert type(string) == str\n",
        "\n",
        "    zeros = np.zeros(self.sequence_size)\n",
        "    idxs = []\n",
        "    for char in string:\n",
        "      idxs.append(self.char_to_idx(char))\n",
        "    \n",
        "    idxs = np.concatenate((idxs, zeros))[:self.sequence_size]\n",
        "\n",
        "    return idxs\n",
        "  \n",
        "  def idxs_to_str(self, idxs):\n",
        "    chars = ''\n",
        "\n",
        "    for idx in idxs:\n",
        "      chars += self.idx_to_char(idx)\n",
        "    \n",
        "    return chars\n",
        "\n",
        "  def entity_to_idx(self, entity):\n",
        "    return self.entity_dict[entity]"
      ],
      "execution_count": 0,
      "outputs": []
    },
    {
      "cell_type": "code",
      "metadata": {
        "id": "Fe-GEolpE2QM",
        "colab_type": "code",
        "colab": {}
      },
      "source": [
        "# TensorFlow uses Generators to access the dataset during training\n",
        "\n",
        "def dataset_df(path='/content/esposalles-labels.csv'):\n",
        "  if not os.path.exists(path):\n",
        "    raise Exception('Esposalles dataset does not exist in ' + path)\n",
        "  \n",
        "  df = pd.read_csv(path, header=None, sep='\\t', names=['img', 'entity', 'rel-entity', 'word', 'sentence'])\n",
        "  df = df.drop(columns=['img'])\n",
        "\n",
        "  return df\n",
        "\n",
        "def encode_word_label(data, entity_type, encoder):\n",
        "  word = data['word']\n",
        "  encoded_word = encoder.str_to_idxs(str(word))\n",
        "  label = data[entity_type]\n",
        "  encoded_label = encoder.entity_to_idx(label)\n",
        "\n",
        "  return (encoded_word, encoded_label)\n",
        "\n",
        "def esposalles_generator(entity_type='entity'): # options include 'entity' and 'rel-entity'\n",
        "  data = dataset_df()\n",
        "  entity_list = list(set(data[entity_type].values))\n",
        "  encoder = Encoder(entity_list)\n",
        "\n",
        "  df_size = data['sentence'].max() + 1\n",
        "\n",
        "  for i in range(df_size):\n",
        "    ith_sentence_words = data.loc[data['sentence'] == i]\n",
        "\n",
        "    sentence_words = []\n",
        "    sentence_labels = []\n",
        "\n",
        "    for index, row in ith_sentence_words.iterrows():\n",
        "      encoded_word, encoded_label = encode_word_label(row, entity_type, encoder)\n",
        "      sentence_words.append(encoded_word)\n",
        "      sentence_labels.append(encoded_label)\n",
        "    \n",
        "    yield tf.constant(np.array(sentence_words), dtype=tf.int64), tf.constant(np.array(sentence_labels), dtype=tf.int32)"
      ],
      "execution_count": 0,
      "outputs": []
    },
    {
      "cell_type": "markdown",
      "metadata": {
        "id": "_5mgsr2oGPFh",
        "colab_type": "text"
      },
      "source": [
        "## Model Architecture\n",
        "\n",
        "This is where we can build our model using the tf.keras high-level API\n",
        "\n",
        "We subclass from tf.keras.Model and implement the *call* method. This is the *forward pass* of the neural network."
      ]
    },
    {
      "cell_type": "code",
      "metadata": {
        "id": "PKXklX-gGYD_",
        "colab_type": "code",
        "colab": {}
      },
      "source": [
        "class NERModel(K.Model):\n",
        "  def __init__(self, input_dim=197, num_classes=6, input_length=20):\n",
        "    super(NERModel, self).__init__()\n",
        "\n",
        "    self.embedding = L.Embedding(input_dim=input_dim, output_dim=64, input_length=input_length)\n",
        "    self.lstm = L.Bidirectional(L.LSTM(64))\n",
        "    self.fc1 = L.Dense(64, activation='relu')\n",
        "    self.fc2 = L.Dense(num_classes)\n",
        "    self.softmax = L.Softmax(axis=1)\n",
        "\n",
        "  def call(self, x):\n",
        "    out = self.embedding(x)\n",
        "    out = self.lstm(out)\n",
        "    out = self.fc1(out)\n",
        "    out = self.fc2(out)\n",
        "    out = self.softmax(out)\n",
        "\n",
        "    return out"
      ],
      "execution_count": 0,
      "outputs": []
    },
    {
      "cell_type": "markdown",
      "metadata": {
        "id": "GzvxSgFXNZJK",
        "colab_type": "text"
      },
      "source": [
        "### Test to make sure the model is doing what we think it is..."
      ]
    },
    {
      "cell_type": "code",
      "metadata": {
        "id": "uzBsYVZjNdNv",
        "colab_type": "code",
        "colab": {
          "base_uri": "https://localhost:8080/",
          "height": 68
        },
        "outputId": "cf557ea5-1008-484f-e6fe-1e1eef278503"
      },
      "source": [
        "generator = esposalles_generator()\n",
        "sentence, labels = next(generator)\n",
        "\n",
        "model = NERModel()\n",
        "results = model(sentence)\n",
        "print('Shape of output from NER Model: ', results.shape)\n",
        "print('Probability Distribution for one word in the sentence: ', results[0])\n",
        "print('Predicted class for the word: ', tf.argmax(results[0]))"
      ],
      "execution_count": 6,
      "outputs": [
        {
          "output_type": "stream",
          "text": [
            "Shape of output from NER Model:  (41, 6)\n",
            "Probability Distribution for one word in the sentence:  tf.Tensor([0.1640126  0.17580101 0.16637379 0.16650574 0.16129099 0.16601591], shape=(6,), dtype=float32)\n",
            "Predicted class for the word:  tf.Tensor(1, shape=(), dtype=int64)\n"
          ],
          "name": "stdout"
        }
      ]
    },
    {
      "cell_type": "markdown",
      "metadata": {
        "id": "eo6dYjU7HGxv",
        "colab_type": "text"
      },
      "source": [
        "## Training Loop\n",
        "\n",
        "Build our training loop and creating custom train_step and test_step functions.\n",
        "\n",
        "GradientTape allows us to keep track of the losses and gradients for each pass through the network. Structuring our code this way makes it much easier for debugging purposes and for us to iterate through our design.\n",
        "\n",
        "Notice the decorator *@tf.function*. This tells TensorFlow to create the computation graph from the python code and allows our model to run much faster."
      ]
    },
    {
      "cell_type": "code",
      "metadata": {
        "id": "2zh0WC0BH1GI",
        "colab_type": "code",
        "colab": {}
      },
      "source": [
        "@tf.function(experimental_relax_shapes=True)\n",
        "def train_step(words, labels):\n",
        "  with tf.GradientTape() as tape:\n",
        "    # Make a prediction, calculate the loss\n",
        "    predictions = model(words)\n",
        "    loss = loss_fn(labels, predictions)\n",
        "\n",
        "  # Obtain gradients from GradientTape\n",
        "  gradients = tape.gradient(loss, model.trainable_variables)\n",
        "\n",
        "  # Propagate loss back through the network and take a step with the optimizer  \n",
        "  optimizer.apply_gradients(zip(gradients, model.trainable_variables))\n",
        "  \n",
        "  # Update our metrics\n",
        "  train_loss(loss)\n",
        "  train_accuracy(labels, tf.argmax(predictions, axis=1))\n",
        "\n",
        "@tf.function(experimental_relax_shapes=True)\n",
        "def validation_step(words, labels):\n",
        "  # Make a prediction and calculate the loss\n",
        "  predictions = model(words)\n",
        "  loss = loss_fn(labels, predictions)\n",
        "\n",
        "  # Update our metrics\n",
        "  val_loss(loss)\n",
        "  val_accuracy(labels, tf.argmax(predictions, axis=1))"
      ],
      "execution_count": 0,
      "outputs": []
    },
    {
      "cell_type": "code",
      "metadata": {
        "id": "hdMb2EVTKJ-B",
        "colab_type": "code",
        "colab": {
          "base_uri": "https://localhost:8080/",
          "height": 357
        },
        "outputId": "3059c8e0-bdf5-457e-db54-5b73b6b27ef2"
      },
      "source": [
        "EPOCHS = 10\n",
        "\n",
        "dataset_size = dataset_df()['sentence'].max() + 1\n",
        "train_dataset_size = int(.8 * dataset_size)\n",
        "val_dataset_size = dataset_size - train_dataset_size\n",
        "\n",
        "dataset = tf.data.Dataset.from_generator(\n",
        "    esposalles_generator,\n",
        "    (tf.int64, tf.int32),\n",
        "    (tf.TensorShape([None, 20]), tf.TensorShape([None])))\n",
        "train_dataset = dataset.take(train_dataset_size)\n",
        "val_dataset = dataset.skip(train_dataset_size)\n",
        "\n",
        "model = NERModel()\n",
        "\n",
        "loss_fn = K.losses.SparseCategoricalCrossentropy(from_logits=False)\n",
        "optimizer = K.optimizers.Adam(learning_rate=1e-3)\n",
        "\n",
        "# Consider adding metrics like Precision/Recall here...\n",
        "train_loss = tf.keras.metrics.Mean(name='train_loss')\n",
        "train_accuracy = tf.keras.metrics.Accuracy(name='train_accuracy')\n",
        "val_loss = tf.keras.metrics.Mean(name='val_loss')\n",
        "val_accuracy = tf.keras.metrics.Accuracy(name='val_accuracy')\n",
        "\n",
        "\n",
        "train_losses, val_losses = [], []\n",
        "train_accuracies, val_accuracies = [], []\n",
        "\n",
        "for epoch in range(EPOCHS):\n",
        "  # Reset Metrics for another epoch\n",
        "  train_loss.reset_states()\n",
        "  train_accuracy.reset_states()\n",
        "  val_loss.reset_states()\n",
        "  val_accuracy.reset_states()\n",
        "\n",
        "  # Instantiate metrics\n",
        "  train_epoch_losses, val_epoch_losses = [], []\n",
        "  train_epoch_accuracies, val_epoch_accuracies = [], []\n",
        "\n",
        "  # Training Loop\n",
        "  train_loop = tqdm(total=train_dataset_size, position=0, leave=True)\n",
        "  for words, labels in train_dataset:\n",
        "    # One training iteration\n",
        "    train_step(words, labels)\n",
        "\n",
        "    # Update Metrics\n",
        "    train_epoch_losses.append(train_loss.result())\n",
        "    train_epoch_accuracies.append(train_accuracy.result())\n",
        "    avg_loss = np.mean(train_epoch_losses) if len(train_epoch_losses) != 0 else 0 # For some reason, on the first couple runs, these metrics can be empty\n",
        "    avg_acc = np.mean(train_epoch_accuracies) if len(train_epoch_accuracies) != 0 else 0\n",
        "\n",
        "    # Update Progress Loop\n",
        "    train_loop.set_description('Train - Epoch: {}, Loss: {:.4f}, Accuracy: {:.4f}, AvgLoss: {:.4f}, AvgAccuracy: {:.4f}'.format(epoch, train_loss.result(), train_accuracy.result(), avg_loss, avg_acc))\n",
        "    train_loop.update(1)\n",
        "\n",
        "  train_loop.close()\n",
        "\n",
        "  # Validation Loop\n",
        "  val_loop = tqdm(total=val_dataset_size, position=0, leave=True)\n",
        "  for words, labels in val_dataset:\n",
        "    # One validation iteration\n",
        "    validation_step(words, labels)\n",
        "\n",
        "    # Update Metrics\n",
        "    val_epoch_losses.append(val_loss.result())\n",
        "    val_epoch_accuracies.append(val_accuracy.result())\n",
        "    avg_loss = np.mean(val_epoch_losses) if len(val_epoch_losses) != 0 else 0\n",
        "    avg_acc = np.mean(val_epoch_accuracies) if len(val_epoch_accuracies) != 0 else 0\n",
        "\n",
        "    # Update Progress Loop\n",
        "    val_loop.set_description('Val  - Epoch: {}, Loss: {:.4f}, Accuracy: {:.4f}, AvgLoss: {:.4f}, AvgAccuracy: {:.4f}'.format(epoch, val_loss.result(), val_accuracy.result(), avg_loss, avg_acc))\n",
        "    val_loop.update(1)\n",
        "    \n",
        "  val_loop.close()  \n",
        "\n",
        "  # Update Metrics for graphs\n",
        "  train_losses.append(np.mean(train_epoch_losses))\n",
        "  val_losses.append(np.mean(val_epoch_losses))\n",
        "  train_accuracies.append(np.mean(train_epoch_accuracies))\n",
        "  val_accuracies.append(np.mean(val_epoch_accuracies))"
      ],
      "execution_count": 8,
      "outputs": [
        {
          "output_type": "stream",
          "text": [
            "Train - Epoch: 0, Loss: 0.7077, Accuracy: 0.7477, AvgLoss: 0.9617, AvgAccuracy: 0.6575: 100%|██████████| 774/774 [00:36<00:00, 21.41it/s]\n",
            "Val  - Epoch: 0, Loss: 0.5075, Accuracy: 0.8193, AvgLoss: 0.5064, AvgAccuracy: 0.8203: 100%|██████████| 194/194 [00:11<00:00, 17.56it/s]\n",
            "Train - Epoch: 1, Loss: 0.4594, Accuracy: 0.8415, AvgLoss: 0.5012, AvgAccuracy: 0.8278: 100%|██████████| 774/774 [00:29<00:00, 26.42it/s]\n",
            "Val  - Epoch: 1, Loss: 0.4263, Accuracy: 0.8571, AvgLoss: 0.4257, AvgAccuracy: 0.8615: 100%|██████████| 194/194 [00:08<00:00, 22.21it/s]\n",
            "Train - Epoch: 2, Loss: 0.3949, Accuracy: 0.8643, AvgLoss: 0.4241, AvgAccuracy: 0.8566: 100%|██████████| 774/774 [00:29<00:00, 26.56it/s]\n",
            "Val  - Epoch: 2, Loss: 0.3916, Accuracy: 0.8604, AvgLoss: 0.3938, AvgAccuracy: 0.8645: 100%|██████████| 194/194 [00:09<00:00, 21.30it/s]\n",
            "Train - Epoch: 3, Loss: 0.3560, Accuracy: 0.8802, AvgLoss: 0.3829, AvgAccuracy: 0.8729: 100%|██████████| 774/774 [00:29<00:00, 26.68it/s]\n",
            "Val  - Epoch: 3, Loss: 0.3623, Accuracy: 0.8794, AvgLoss: 0.3638, AvgAccuracy: 0.8840: 100%|██████████| 194/194 [00:08<00:00, 21.90it/s]\n",
            "Train - Epoch: 4, Loss: 0.3287, Accuracy: 0.8909, AvgLoss: 0.3550, AvgAccuracy: 0.8845: 100%|██████████| 774/774 [00:29<00:00, 26.08it/s]\n",
            "Val  - Epoch: 4, Loss: 0.3492, Accuracy: 0.8910, AvgLoss: 0.3505, AvgAccuracy: 0.8932: 100%|██████████| 194/194 [00:08<00:00, 22.85it/s]\n",
            "Train - Epoch: 5, Loss: 0.3058, Accuracy: 0.9005, AvgLoss: 0.3322, AvgAccuracy: 0.8925: 100%|██████████| 774/774 [00:29<00:00, 26.37it/s]\n",
            "Val  - Epoch: 5, Loss: 0.3276, Accuracy: 0.8975, AvgLoss: 0.3302, AvgAccuracy: 0.8996: 100%|██████████| 194/194 [00:08<00:00, 22.66it/s]\n",
            "Train - Epoch: 6, Loss: 0.2888, Accuracy: 0.9065, AvgLoss: 0.3132, AvgAccuracy: 0.8979: 100%|██████████| 774/774 [00:29<00:00, 25.88it/s]\n",
            "Val  - Epoch: 6, Loss: 0.3112, Accuracy: 0.9028, AvgLoss: 0.3123, AvgAccuracy: 0.9051: 100%|██████████| 194/194 [00:08<00:00, 21.87it/s]\n",
            "Train - Epoch: 7, Loss: 0.2769, Accuracy: 0.9113, AvgLoss: 0.2984, AvgAccuracy: 0.9041: 100%|██████████| 774/774 [00:29<00:00, 26.25it/s]\n",
            "Val  - Epoch: 7, Loss: 0.3010, Accuracy: 0.9070, AvgLoss: 0.3020, AvgAccuracy: 0.9086: 100%|██████████| 194/194 [00:08<00:00, 22.45it/s]\n",
            "Train - Epoch: 8, Loss: 0.2649, Accuracy: 0.9162, AvgLoss: 0.2846, AvgAccuracy: 0.9097: 100%|██████████| 774/774 [00:29<00:00, 26.66it/s]\n",
            "Val  - Epoch: 8, Loss: 0.2947, Accuracy: 0.9136, AvgLoss: 0.2967, AvgAccuracy: 0.9157: 100%|██████████| 194/194 [00:08<00:00, 22.21it/s]\n",
            "Train - Epoch: 9, Loss: 0.2533, Accuracy: 0.9206, AvgLoss: 0.2714, AvgAccuracy: 0.9149: 100%|██████████| 774/774 [00:29<00:00, 26.61it/s]\n",
            "Val  - Epoch: 9, Loss: 0.2900, Accuracy: 0.9149, AvgLoss: 0.2914, AvgAccuracy: 0.9171: 100%|██████████| 194/194 [00:08<00:00, 22.47it/s]\n"
          ],
          "name": "stderr"
        }
      ]
    },
    {
      "cell_type": "code",
      "metadata": {
        "id": "ET2FHHVW957n",
        "colab_type": "code",
        "colab": {
          "base_uri": "https://localhost:8080/",
          "height": 312
        },
        "outputId": "64ffd096-d6cd-4093-d412-5d9f9ef9fabf"
      },
      "source": [
        "plt.title('Loss')\n",
        "plt.xlabel('Epochs')\n",
        "plt.ylabel('Loss')\n",
        "plt.plot(train_losses, label='train')\n",
        "plt.plot(val_losses, label='val')\n",
        "plt.legend()\n",
        "plt.show()\n",
        "print('Final Validation Loss: {:.4f}'.format(val_losses[-1]))"
      ],
      "execution_count": 16,
      "outputs": [
        {
          "output_type": "display_data",
          "data": {
            "image/png": "[encoded data removed]",
            "text/plain": [
              "<Figure size 432x288 with 1 Axes>"
            ]
          },
          "metadata": {
            "tags": []
          }
        },
        {
          "output_type": "stream",
          "text": [
            "Final Validation Loss: 0.2914\n"
          ],
          "name": "stdout"
        }
      ]
    },
    {
      "cell_type": "code",
      "metadata": {
        "id": "8OHunu4792FZ",
        "colab_type": "code",
        "colab": {
          "base_uri": "https://localhost:8080/",
          "height": 312
        },
        "outputId": "6bb44d67-aca8-4924-9869-3b07cb4f8dc6"
      },
      "source": [
        "plt.title('Accuracy')\n",
        "plt.xlabel('Epochs')\n",
        "plt.ylabel('Accuracy')\n",
        "plt.plot(train_accuracies, label='train')\n",
        "plt.plot(val_accuracies, label='val')\n",
        "plt.legend()\n",
        "plt.show()\n",
        "print('Final Validation Accuracy: {:.2f}%'.format(val_accuracies[-1] * 100))"
      ],
      "execution_count": 15,
      "outputs": [
        {
          "output_type": "display_data",
          "data": {
            "image/png": "[encoded data removed]",
            "text/plain": [
              "<Figure size 432x288 with 1 Axes>"
            ]
          },
          "metadata": {
            "tags": []
          }
        },
        {
          "output_type": "stream",
          "text": [
            "Final Validation Accuracy: 91.71%\n"
          ],
          "name": "stdout"
        }
      ]
    }
  ]
}